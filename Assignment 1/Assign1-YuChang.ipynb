{
 "cells": [
  {
   "attachments": {},
   "cell_type": "markdown",
   "metadata": {},
   "source": [
    "# Assignment 1: Dino Fun World\n",
    "\n",
    "### Assignment Description\n",
    "\n",
    "You, in your role as a data explorer and visualizer, have been asked by the administrators of a small amusement park in your hometown to answer a few questions about their park operations. The dataset that they provided for you to perform the requested analysis includes the movement and communication data captured from the park attendees' apps during one weekend (Friday, Saturday, and Sunday).\n",
    "\n",
    "The administrators would like you to answer four relatively simple questions about the park activities on the day in question. These questions all deal with park operations and can be answered using the data provided.\n",
    "* **Question 1:** What is the most popular attraction to visit in the park?\n",
    "\n",
    "\n",
    "* **Question 2:** What ride (note that not all attractions are rides) has the longest average visit time?\n",
    "\n",
    "\n",
    "* **Question 3:** Which Fast Food offering has the fewest visitors?\n",
    "\n",
    "\n",
    "* **Question 4:** Compute the Skyline of number of visits and visit time for the park's ride, and report the rides that appear in the Skyline. (Note: Your answer should be three points, which can be given in any order.)\n",
    "\n",
    "\n",
    "### Directions\n",
    "\n",
    "The database provided by the park administration is formatted to be readable by any SQL database library. The course staff recommends the sqlite3 library. The database contains three tables, named 'checkin', 'attractions', and 'sequences'. The database file is named 'dinofunworld.db' .\n",
    "\n",
    "The information contained in each of these tables is listed below:\n",
    "\n",
    "`checkin`:\n",
    "    - The check-in data for all visitors for the day in the park. The data includes two types of check-ins: inferred and actual checkins.\n",
    "    - Fields: visitorID, timestamp, attraction, duration, type\n",
    "\n",
    "`attraction`:\n",
    "    - The attractions in the park by their corresponding AttractionID, Name, Region, Category, and type. Regions are from the VAST Challenge map such as Coaster Alley, Tundra Land, etc. Categories include Thrill rides, Kiddie Rides, etc. Type is broken into Outdoor Coaster, Other Ride, Carousel, etc.\n",
    "    - Fields: AttractionID, Name, Region, Category, type\n",
    "    \n",
    "`sequences`:\n",
    "    - The check-in sequences of visitors. These sequences list the position of each visitor to the park every five minutes. If the visitor has not entered the part yet, the sequence has a value of 0 for that time interval. If the visitor is in the park, the sequence lists the attraction they have most recently checked in to until they check in to a new one or leave the park.\n",
    "    - Fields: visitorID, sequence\n",
    "    \n",
    "Using the provided data, answer the four questions that the administrators have asked.\n",
    "\n",
    "### Submission Directions for Assignment Deliverables\n",
    "\n",
    "This assignment will be auto-graded. We recommend that you submit this assignment. In order for your answers to be correctly registered in the system, you must place the code for your answers in the cell indicated for each question. In addition, you should submit the assignment with the output of the code in the cell's display area. The display area should contain only your answer to the question with no extraneous information, or else the answer may not be picked up correctly. \n",
    "\n",
    "Each cell that is going to be graded has a set of comment lines at the beginning of the cell. These lines are extremely important and must not be modified or removed. \n",
    "\n",
    "Please execute each cell in Jupyter Notebook before submitting.\n",
    "\n",
    "\n"
   ]
  },
  {
   "cell_type": "code",
   "execution_count": 1,
   "metadata": {},
   "outputs": [
    {
     "name": "stdout",
     "output_type": "stream",
     "text": [
      "[('checkin',), ('attraction',), ('sequences',)]\n",
      "\n",
      "visitorID, timestamp, attraction, duration, type\n",
      "[(0, 436, '2014-06-08 09:48:51', 83, '0:00:59', 'actual')]\n",
      "[(506242,)]\n",
      "\n",
      "attractionID, name, region, category, type\n",
      "[(0, 1, 'Wrightiraptor Mountain', 'Coaster Alley', 'Thrill Rides\\r', 'Outdoor Coaster')]\n",
      "\n",
      "visitorID, sequence\n",
      "[(0, 436, '0-0-0-0-0-0-0-0-0-0-0-0-0-0-0-0-0-0-0-0-0-0-0-0-0-0-0-0-0-0-0-0-0-0-0-0-0-0-0-0-0-0-0-0-0-0-0-0-0-0-0-0-0-0-0-0-0-0-0-0-0-0-0-0-0-0-0-0-0-0-0-0-0-0-0-0-0-0-0-0-0-0-0-0-0-0-0-0-0-0-0-0-0-0-0-0-0-0-0-0-0-0-0-0-0-0-0-0-0-0-0-0-0-0-0-0-0-0-0-0-0-0-0-0-0-0-0-0-0-0-0-0-0-0-0-0-0-0-0-0-0-0-0-0-0-0-0-0-0-0-0-0-0-0-0-0-0-0-0-0-0-0-0-0-0-0-0-0-0-0-0-0-0-0-0-0-0-0-0-0-0-0-0-0-0-0-0-0-0-0-0-0-0-0-0-0-0-0-0-0-0-0-0-0-0-0-0-0-0-0-0-0-0-0-0-0-0-0-0-0-0-0-0-0-0-0-0-0-0-0-0-0-0-0-0-0-0-0-0-0-0-0-0-0-0-0-0-0-0-0-0-0-0-0-0-0-0-0-0-0-0-0-0-0-0-0-0-0-0-0-0-0-0-0-0-0-0-0-0-0-0-0-0-0-0-0-0-0-0-0-0-0-0-0-0-0-0-0-0-0-0-0-0-0-0-0-0-0-0-0-0-0-0-0-0-0-0-0-0-0-0-0-0-0-0-0-0-0-0-0-0-0-0-0-0-0-0-0-0-0-0-0-0-0-0-0-0-0-0-0-0-0-0-0-0-0-0-0-0-0-0-0-0-0-0-0-0-0-0-0-0-0-0-0-0-0-0-0-0-0-0-0-0-0-0-0-0-0-0-0-0-0-0-0-0-0-0-0-0-0-0-0-0-0-0-83-0-42-42-0-6-6-6-5-5-5-5-5-5-5-5-5-5-5-5-5-5-5-49-49-0-36-36-36-36-36-36-36-36-36-36-36-2-2-2-0-34-34-34-34-34-34-34-0-45-45-45-3-3-3-3-3-3-3-3-0-0-40-40-40-40-40-40-40-40-40-5-5-5-5-5-5-5-5-5-5-5-5-5-5-2-2-2-0-16-16-16-44-44-44-44-44-64-64-64-64-64-64-64-64-64-0-33-33-33-33-33-34-34-34-34-34-34-34-34-34-34-6-6-0-53-53-53-53-53-53-53-53-53-33-33-33-33-33-33-33-33-0-0-14-14-15-15-0-0-0-0-0-61-61-61-61-61-61-61-0-0-83-0-0-0-0-0-0-0-0')]\n",
      "\n"
     ]
    }
   ],
   "source": [
    "import sqlite3\n",
    "\n",
    "db = 'dinofunworld.db'\n",
    "conn = sqlite3.connect(db)\n",
    "cursor = conn.cursor()\n",
    "\n",
    "# cursor.execute(...)\n",
    "# results = cursor.fetchall()\n",
    "cursor.execute(\"SELECT name FROM sqlite_master WHERE type='table';\")\n",
    "results = cursor.fetchall()\n",
    "print(results)\n",
    "print()\n",
    "# checkin attraction sequences\n",
    "cursor.execute(\"SELECT * FROM checkin LIMIT 1;\")\n",
    "results = cursor.fetchall()\n",
    "print(\"visitorID, timestamp, attraction, duration, type\")\n",
    "print(results)\n",
    "cursor.execute(\"SELECT COUNT(*) FROM checkin;\")\n",
    "results = cursor.fetchall()\n",
    "print(results)\n",
    "print()\n",
    "cursor.execute(\"SELECT * FROM attraction LIMIT 1;\")\n",
    "results = cursor.fetchall()\n",
    "print(\"attractionID, name, region, category, type\")\n",
    "print(results)\n",
    "print()\n",
    "cursor.execute(\"SELECT * FROM sequences LIMIT 1;\")\n",
    "results = cursor.fetchall()\n",
    "print(\"visitorID, sequence\")\n",
    "print(results)\n",
    "print()\n"
   ]
  },
  {
   "cell_type": "markdown",
   "metadata": {},
   "source": [
    "### Question 1: \n",
    "What is the most popular attraction to visit in the park?\n",
    "\n",
    "**Note:** Your output should be the name of the attraction."
   ]
  },
  {
   "cell_type": "code",
   "execution_count": 2,
   "metadata": {
    "scrolled": false
   },
   "outputs": [
    {
     "name": "stdout",
     "output_type": "stream",
     "text": [
      "Ichthyoroberts Rapids\n"
     ]
    }
   ],
   "source": [
    "# your code here for Q1\n",
    "\n",
    "query = '''\n",
    "SELECT attraction, COUNT(*) AS visit_count\n",
    "FROM checkin\n",
    "WHERE type = 'actual'\n",
    "GROUP BY attraction\n",
    "ORDER BY visit_count DESC\n",
    "LIMIT 5;\n",
    "'''\n",
    "cursor.execute(query)\n",
    "results = cursor.fetchall()\n",
    "# print(results)\n",
    "\n",
    "\n",
    "query = '''\n",
    "SELECT name FROM attraction WHERE attractionID = \"30\"\n",
    "'''\n",
    "cursor.execute(query)\n",
    "results = cursor.fetchall()\n",
    "print(results[0][0])\n"
   ]
  },
  {
   "cell_type": "markdown",
   "metadata": {},
   "source": [
    "### Question 2: \n",
    "\n",
    "What ride (note that not all attractions are rides) has the  longest average visit time?\n",
    "\n",
    "**Note:** Your output should be the name of the ride.\n"
   ]
  },
  {
   "cell_type": "code",
   "execution_count": 3,
   "metadata": {},
   "outputs": [
    {
     "name": "stdout",
     "output_type": "stream",
     "text": [
      "Flight of the Swingodon\n"
     ]
    }
   ],
   "source": [
    "# your code here for Q2\n",
    "\n",
    "query = '''\n",
    "SELECT category, COUNT(*) AS count\n",
    "FROM attraction\n",
    "GROUP BY category\n",
    "ORDER BY count DESC;\n",
    "'''\n",
    "cursor.execute(query)\n",
    "results = cursor.fetchall()\n",
    "# print(results)\n",
    "\n",
    "\n",
    "query = '''\n",
    "SELECT attractionID, category\n",
    "FROM attraction\n",
    "WHERE category LIKE '%Ride%';\n",
    "'''\n",
    "cursor.execute(query)\n",
    "results = cursor.fetchall()\n",
    "# print(results)\n",
    "\n",
    "\n",
    "query = '''\n",
    "SELECT c.attraction, a.name, a.category, AVG(c.duration) AS avg\n",
    "FROM checkin c\n",
    "JOIN attraction a ON c.attraction = a.attractionID\n",
    "WHERE c.type = 'actual'\n",
    "AND a.category LIKE '%Ride%'\n",
    "AND c.duration NOT LIKE '%[a-zA-Z]%'\n",
    "GROUP BY c.attraction, a.category\n",
    "ORDER BY avg DESC\n",
    "LIMIT 3;\n",
    "'''\n",
    "cursor.execute(query)\n",
    "results = cursor.fetchall()\n",
    "# print(results)\n",
    "print(results[0][1])"
   ]
  },
  {
   "cell_type": "markdown",
   "metadata": {},
   "source": [
    "### Question 3:\n",
    "\n",
    "Which Fast Food offering in the park has the fewest visitors?\n",
    "\n",
    "**Note:** Your output should be the name of the fast food offering."
   ]
  },
  {
   "cell_type": "code",
   "execution_count": 4,
   "metadata": {},
   "outputs": [
    {
     "name": "stdout",
     "output_type": "stream",
     "text": [
      "Data of the Fast Food type is all inferred; there's no actual data for Fast Food type.\n",
      "If we go by inferred data...\n",
      "Theresaur Food Stop\n"
     ]
    }
   ],
   "source": [
    "# your code here for Q3\n",
    "\n",
    "query = '''\n",
    "SELECT type, COUNT(*) AS count\n",
    "FROM attraction\n",
    "GROUP BY type\n",
    "ORDER BY count DESC;\n",
    "'''\n",
    "cursor.execute(query)\n",
    "results = cursor.fetchall()\n",
    "# print(results)\n",
    "\n",
    "\n",
    "query = '''\n",
    "SELECT c.attraction, a.name, a.type, COUNT(c.attraction) AS visit_count\n",
    "FROM checkin c\n",
    "JOIN attraction a ON c.attraction = a.attractionID\n",
    "WHERE c.type = 'actual'\n",
    "AND a.type = 'Fast Food'\n",
    "GROUP BY c.attraction, a.name, a.type\n",
    "ORDER BY visit_count ASC;\n",
    "'''\n",
    "cursor.execute(query)\n",
    "results = cursor.fetchall()\n",
    "# print(results)\n",
    "print(\"Data of the Fast Food type is all inferred; there's no actual data for Fast Food type.\")\n",
    "\n",
    "\n",
    "query = '''\n",
    "SELECT c.attraction, a.name, a.type, COUNT(c.attraction) AS visit_count\n",
    "FROM checkin c\n",
    "JOIN attraction a ON c.attraction = a.attractionID\n",
    "WHERE a.type = 'Fast Food'\n",
    "GROUP BY c.attraction, a.name, a.type\n",
    "ORDER BY visit_count ASC;\n",
    "'''\n",
    "cursor.execute(query)\n",
    "results = cursor.fetchall()\n",
    "print(\"If we go by inferred data...\")\n",
    "# print(results)\n",
    "print(results[0][1])\n"
   ]
  },
  {
   "cell_type": "markdown",
   "metadata": {},
   "source": [
    "### Question 4:\n",
    "\n",
    "Compute the Skyline of number of visits and visit time for the park's ride and report the rides that appear in the Skyline. \n",
    "\n",
    "**Note:** Remember that in this case, higher visits is better and lower visit times are better. Your output should be formatted as a list of names of the rides in the Skyline. Your output should be three points, which can be given in any order(example output : ['Ride 1','Ride 2','Ride 3'] )\n"
   ]
  },
  {
   "cell_type": "code",
   "execution_count": 5,
   "metadata": {},
   "outputs": [
    {
     "name": "stdout",
     "output_type": "stream",
     "text": [
      "['Ichthyoroberts Rapids', 'Keimosaurus Big Spin', 'Galactosaurus Rage', 'Dykesadactyl Thrill', 'Squidosaur']\n"
     ]
    }
   ],
   "source": [
    "# your code here for Q4\n",
    "\n",
    "query = '''\n",
    "SELECT\n",
    "    c.attraction, a.name, a.category,\n",
    "    COUNT(c.visitorID) AS visit_count,\n",
    "    AVG(c.duration) AS avg_duration\n",
    "FROM checkin c\n",
    "JOIN Attraction a ON c.attraction = a.attractionID\n",
    "WHERE c.type = 'actual'\n",
    "AND a.category LIKE '%Ride%'\n",
    "AND c.duration NOT LIKE '%[a-zA-Z]%'\n",
    "GROUP BY c.attraction, a.name, a.category\n",
    "ORDER BY visit_count DESC;\n",
    "'''\n",
    "cursor.execute(query)\n",
    "query_results = cursor.fetchall()\n",
    "\n",
    "\n",
    "skyline_rides = []\n",
    "for i, row in enumerate(query_results):\n",
    "    dominated = False\n",
    "    for j, other_row in enumerate(query_results):\n",
    "        if (other_row[3] >= row[3] and  # other_row visit_count >= row visit_count\n",
    "            other_row[4] <= row[4] and  # other_row avg_duration <= row avg_duration\n",
    "            (other_row[3] > row[3] or other_row[4] < row[4])):  # at least one dimension is better\n",
    "            dominated = True\n",
    "            break\n",
    "    if not dominated:\n",
    "        skyline_rides.append(row[1]) \n",
    "\n",
    "\n",
    "print(skyline_rides)"
   ]
  }
 ],
 "metadata": {
  "kernelspec": {
   "display_name": ".venv",
   "language": "python",
   "name": "python3"
  },
  "language_info": {
   "codemirror_mode": {
    "name": "ipython",
    "version": 3
   },
   "file_extension": ".py",
   "mimetype": "text/x-python",
   "name": "python",
   "nbconvert_exporter": "python",
   "pygments_lexer": "ipython3",
   "version": "3.12.7"
  }
 },
 "nbformat": 4,
 "nbformat_minor": 2
}
